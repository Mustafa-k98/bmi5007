{
 "cells": [
  {
   "cell_type": "code",
   "execution_count": 1,
   "id": "735b14bb-c00a-4838-95ec-6a2c83adf6b2",
   "metadata": {},
   "outputs": [],
   "source": [
    "import pandas as pd"
   ]
  },
  {
   "cell_type": "code",
   "execution_count": 2,
   "id": "1888397c-09d4-40fb-99ba-0cc2aeac9ed9",
   "metadata": {},
   "outputs": [],
   "source": [
    "icu_df=pd.read_csv(\"data/icu_data.csv\")"
   ]
  },
  {
   "cell_type": "code",
   "execution_count": 3,
   "id": "040e9e4c-e354-4521-897c-5a40ca7d8868",
   "metadata": {},
   "outputs": [
    {
     "data": {
      "text/html": [
       "<div>\n",
       "<style scoped>\n",
       "    .dataframe tbody tr th:only-of-type {\n",
       "        vertical-align: middle;\n",
       "    }\n",
       "\n",
       "    .dataframe tbody tr th {\n",
       "        vertical-align: top;\n",
       "    }\n",
       "\n",
       "    .dataframe thead th {\n",
       "        text-align: right;\n",
       "    }\n",
       "</style>\n",
       "<table border=\"1\" class=\"dataframe\">\n",
       "  <thead>\n",
       "    <tr style=\"text-align: right;\">\n",
       "      <th></th>\n",
       "      <th>RecordID</th>\n",
       "      <th>SAPS-I</th>\n",
       "      <th>SOFA</th>\n",
       "      <th>Length_of_stay</th>\n",
       "      <th>Survival</th>\n",
       "      <th>In-hospital_death</th>\n",
       "    </tr>\n",
       "  </thead>\n",
       "  <tbody>\n",
       "    <tr>\n",
       "      <th>0</th>\n",
       "      <td>132539</td>\n",
       "      <td>6</td>\n",
       "      <td>1</td>\n",
       "      <td>5</td>\n",
       "      <td>-1</td>\n",
       "      <td>0</td>\n",
       "    </tr>\n",
       "    <tr>\n",
       "      <th>1</th>\n",
       "      <td>132540</td>\n",
       "      <td>16</td>\n",
       "      <td>8</td>\n",
       "      <td>8</td>\n",
       "      <td>-1</td>\n",
       "      <td>0</td>\n",
       "    </tr>\n",
       "    <tr>\n",
       "      <th>2</th>\n",
       "      <td>132541</td>\n",
       "      <td>21</td>\n",
       "      <td>11</td>\n",
       "      <td>19</td>\n",
       "      <td>-1</td>\n",
       "      <td>0</td>\n",
       "    </tr>\n",
       "    <tr>\n",
       "      <th>3</th>\n",
       "      <td>132543</td>\n",
       "      <td>7</td>\n",
       "      <td>1</td>\n",
       "      <td>9</td>\n",
       "      <td>575</td>\n",
       "      <td>0</td>\n",
       "    </tr>\n",
       "    <tr>\n",
       "      <th>4</th>\n",
       "      <td>132545</td>\n",
       "      <td>17</td>\n",
       "      <td>2</td>\n",
       "      <td>4</td>\n",
       "      <td>918</td>\n",
       "      <td>0</td>\n",
       "    </tr>\n",
       "    <tr>\n",
       "      <th>...</th>\n",
       "      <td>...</td>\n",
       "      <td>...</td>\n",
       "      <td>...</td>\n",
       "      <td>...</td>\n",
       "      <td>...</td>\n",
       "      <td>...</td>\n",
       "    </tr>\n",
       "    <tr>\n",
       "      <th>3995</th>\n",
       "      <td>142665</td>\n",
       "      <td>19</td>\n",
       "      <td>7</td>\n",
       "      <td>10</td>\n",
       "      <td>336</td>\n",
       "      <td>0</td>\n",
       "    </tr>\n",
       "    <tr>\n",
       "      <th>3996</th>\n",
       "      <td>142667</td>\n",
       "      <td>8</td>\n",
       "      <td>2</td>\n",
       "      <td>3</td>\n",
       "      <td>-1</td>\n",
       "      <td>0</td>\n",
       "    </tr>\n",
       "    <tr>\n",
       "      <th>3997</th>\n",
       "      <td>142670</td>\n",
       "      <td>8</td>\n",
       "      <td>5</td>\n",
       "      <td>11</td>\n",
       "      <td>-1</td>\n",
       "      <td>0</td>\n",
       "    </tr>\n",
       "    <tr>\n",
       "      <th>3998</th>\n",
       "      <td>142671</td>\n",
       "      <td>22</td>\n",
       "      <td>10</td>\n",
       "      <td>8</td>\n",
       "      <td>7</td>\n",
       "      <td>1</td>\n",
       "    </tr>\n",
       "    <tr>\n",
       "      <th>3999</th>\n",
       "      <td>142673</td>\n",
       "      <td>25</td>\n",
       "      <td>11</td>\n",
       "      <td>7</td>\n",
       "      <td>-1</td>\n",
       "      <td>0</td>\n",
       "    </tr>\n",
       "  </tbody>\n",
       "</table>\n",
       "<p>4000 rows × 6 columns</p>\n",
       "</div>"
      ],
      "text/plain": [
       "      RecordID  SAPS-I  SOFA  Length_of_stay  Survival  In-hospital_death\n",
       "0       132539       6     1               5        -1                  0\n",
       "1       132540      16     8               8        -1                  0\n",
       "2       132541      21    11              19        -1                  0\n",
       "3       132543       7     1               9       575                  0\n",
       "4       132545      17     2               4       918                  0\n",
       "...        ...     ...   ...             ...       ...                ...\n",
       "3995    142665      19     7              10       336                  0\n",
       "3996    142667       8     2               3        -1                  0\n",
       "3997    142670       8     5              11        -1                  0\n",
       "3998    142671      22    10               8         7                  1\n",
       "3999    142673      25    11               7        -1                  0\n",
       "\n",
       "[4000 rows x 6 columns]"
      ]
     },
     "execution_count": 3,
     "metadata": {},
     "output_type": "execute_result"
    }
   ],
   "source": [
    "icu_df"
   ]
  },
  {
   "cell_type": "code",
   "execution_count": 4,
   "id": "e7d556e0-e4c0-436a-bccb-e848ea0e1f10",
   "metadata": {},
   "outputs": [
    {
     "data": {
      "text/html": [
       "<div>\n",
       "<style scoped>\n",
       "    .dataframe tbody tr th:only-of-type {\n",
       "        vertical-align: middle;\n",
       "    }\n",
       "\n",
       "    .dataframe tbody tr th {\n",
       "        vertical-align: top;\n",
       "    }\n",
       "\n",
       "    .dataframe thead th {\n",
       "        text-align: right;\n",
       "    }\n",
       "</style>\n",
       "<table border=\"1\" class=\"dataframe\">\n",
       "  <thead>\n",
       "    <tr style=\"text-align: right;\">\n",
       "      <th></th>\n",
       "      <th>RecordID</th>\n",
       "      <th>SAPS-I</th>\n",
       "      <th>SOFA</th>\n",
       "      <th>Length_of_stay</th>\n",
       "      <th>Survival</th>\n",
       "      <th>In-hospital_death</th>\n",
       "    </tr>\n",
       "  </thead>\n",
       "  <tbody>\n",
       "    <tr>\n",
       "      <th>count</th>\n",
       "      <td>4000.000000</td>\n",
       "      <td>4000.000000</td>\n",
       "      <td>4000.000000</td>\n",
       "      <td>4000.000000</td>\n",
       "      <td>4000.000000</td>\n",
       "      <td>4000.000000</td>\n",
       "    </tr>\n",
       "    <tr>\n",
       "      <th>mean</th>\n",
       "      <td>137605.122000</td>\n",
       "      <td>14.203500</td>\n",
       "      <td>6.402500</td>\n",
       "      <td>13.441750</td>\n",
       "      <td>128.735500</td>\n",
       "      <td>0.138500</td>\n",
       "    </tr>\n",
       "    <tr>\n",
       "      <th>std</th>\n",
       "      <td>2923.608886</td>\n",
       "      <td>6.088584</td>\n",
       "      <td>4.201298</td>\n",
       "      <td>12.246371</td>\n",
       "      <td>363.714273</td>\n",
       "      <td>0.345467</td>\n",
       "    </tr>\n",
       "    <tr>\n",
       "      <th>min</th>\n",
       "      <td>132539.000000</td>\n",
       "      <td>-1.000000</td>\n",
       "      <td>-1.000000</td>\n",
       "      <td>-1.000000</td>\n",
       "      <td>-1.000000</td>\n",
       "      <td>0.000000</td>\n",
       "    </tr>\n",
       "    <tr>\n",
       "      <th>25%</th>\n",
       "      <td>135075.750000</td>\n",
       "      <td>11.000000</td>\n",
       "      <td>3.000000</td>\n",
       "      <td>6.000000</td>\n",
       "      <td>-1.000000</td>\n",
       "      <td>0.000000</td>\n",
       "    </tr>\n",
       "    <tr>\n",
       "      <th>50%</th>\n",
       "      <td>137592.500000</td>\n",
       "      <td>15.000000</td>\n",
       "      <td>6.000000</td>\n",
       "      <td>10.000000</td>\n",
       "      <td>-1.000000</td>\n",
       "      <td>0.000000</td>\n",
       "    </tr>\n",
       "    <tr>\n",
       "      <th>75%</th>\n",
       "      <td>140100.250000</td>\n",
       "      <td>18.000000</td>\n",
       "      <td>9.000000</td>\n",
       "      <td>17.000000</td>\n",
       "      <td>16.000000</td>\n",
       "      <td>0.000000</td>\n",
       "    </tr>\n",
       "    <tr>\n",
       "      <th>max</th>\n",
       "      <td>142673.000000</td>\n",
       "      <td>34.000000</td>\n",
       "      <td>22.000000</td>\n",
       "      <td>154.000000</td>\n",
       "      <td>2600.000000</td>\n",
       "      <td>1.000000</td>\n",
       "    </tr>\n",
       "  </tbody>\n",
       "</table>\n",
       "</div>"
      ],
      "text/plain": [
       "            RecordID       SAPS-I         SOFA  Length_of_stay     Survival  \\\n",
       "count    4000.000000  4000.000000  4000.000000     4000.000000  4000.000000   \n",
       "mean   137605.122000    14.203500     6.402500       13.441750   128.735500   \n",
       "std      2923.608886     6.088584     4.201298       12.246371   363.714273   \n",
       "min    132539.000000    -1.000000    -1.000000       -1.000000    -1.000000   \n",
       "25%    135075.750000    11.000000     3.000000        6.000000    -1.000000   \n",
       "50%    137592.500000    15.000000     6.000000       10.000000    -1.000000   \n",
       "75%    140100.250000    18.000000     9.000000       17.000000    16.000000   \n",
       "max    142673.000000    34.000000    22.000000      154.000000  2600.000000   \n",
       "\n",
       "       In-hospital_death  \n",
       "count        4000.000000  \n",
       "mean            0.138500  \n",
       "std             0.345467  \n",
       "min             0.000000  \n",
       "25%             0.000000  \n",
       "50%             0.000000  \n",
       "75%             0.000000  \n",
       "max             1.000000  "
      ]
     },
     "execution_count": 4,
     "metadata": {},
     "output_type": "execute_result"
    }
   ],
   "source": [
    "icu_df.describe()"
   ]
  },
  {
   "cell_type": "markdown",
   "id": "8459d908-2a14-4a7a-8a57-c1a22afc7a34",
   "metadata": {},
   "source": [
    "## Examine data"
   ]
  },
  {
   "cell_type": "markdown",
   "id": "9eb97bed-1468-437a-8560-f3ea02b73010",
   "metadata": {},
   "source": [
    "### Box Plot"
   ]
  },
  {
   "cell_type": "code",
   "execution_count": 5,
   "id": "8b4b0440-c2a2-49cd-893d-3561f89ae223",
   "metadata": {},
   "outputs": [
    {
     "data": {
      "text/plain": [
       "<Axes: >"
      ]
     },
     "execution_count": 5,
     "metadata": {},
     "output_type": "execute_result"
    },
    {
     "data": {
      "image/png": "[encoded data removed]",
      "text/plain": [
       "<Figure size 640x480 with 1 Axes>"
      ]
     },
     "metadata": {},
     "output_type": "display_data"
    }
   ],
   "source": [
    "icu_df[[\"SAPS-I\",\"SOFA\"]].plot(kind='box')"
   ]
  },
  {
   "cell_type": "code",
   "execution_count": 6,
   "id": "f3aa9950-99bc-40d4-ba33-2357aae943d9",
   "metadata": {},
   "outputs": [
    {
     "data": {
      "text/plain": [
       "<Axes: >"
      ]
     },
     "execution_count": 6,
     "metadata": {},
     "output_type": "execute_result"
    },
    {
     "data": {
      "image/png": "[encoded data removed]",
      "text/plain": [
       "<Figure size 640x480 with 1 Axes>"
      ]
     },
     "metadata": {},
     "output_type": "display_data"
    }
   ],
   "source": [
    "icu_df[[\"Length_of_stay\",\"Survival\"]].plot(kind=\"box\")"
   ]
  },
  {
   "cell_type": "markdown",
   "id": "f1c37178-1e01-4d70-8053-44c2eefe588a",
   "metadata": {},
   "source": [
    "### Histogram"
   ]
  },
  {
   "cell_type": "code",
   "execution_count": 8,
   "id": "372129b3-0526-4942-86e5-edf434534731",
   "metadata": {},
   "outputs": [
    {
     "data": {
      "text/plain": [
       "array([[<Axes: title={'center': 'RecordID'}>,\n",
       "        <Axes: title={'center': 'SAPS-I'}>],\n",
       "       [<Axes: title={'center': 'SOFA'}>,\n",
       "        <Axes: title={'center': 'Length_of_stay'}>],\n",
       "       [<Axes: title={'center': 'Survival'}>,\n",
       "        <Axes: title={'center': 'In-hospital_death'}>]], dtype=object)"
      ]
     },
     "execution_count": 8,
     "metadata": {},
     "output_type": "execute_result"
    },
    {
     "data": {
      "image/png": "[encoded data removed]",
      "text/plain": [
       "<Figure size 640x480 with 6 Axes>"
      ]
     },
     "metadata": {},
     "output_type": "display_data"
    }
   ],
   "source": [
    "icu_df.hist()"
   ]
  },
  {
   "cell_type": "markdown",
   "id": "9d81ad99-1793-4d24-bc82-928918f1a3dc",
   "metadata": {},
   "source": [
    "### Piechart"
   ]
  },
  {
   "cell_type": "code",
   "execution_count": 10,
   "id": "96cadb45-2055-4995-98b0-c4c826f75952",
   "metadata": {
    "scrolled": true
   },
   "outputs": [
    {
     "data": {
      "text/plain": [
       "<Axes: ylabel='count'>"
      ]
     },
     "execution_count": 10,
     "metadata": {},
     "output_type": "execute_result"
    },
    {
     "data": {
      "image/png": "[encoded data removed]",
      "text/plain": [
       "<Figure size 640x480 with 1 Axes>"
      ]
     },
     "metadata": {},
     "output_type": "display_data"
    }
   ],
   "source": [
    "icu_df[\"In-hospital_death\"].value_counts().plot(kind=\"pie\", labels=[\"Outside\",\"In-hospital death\"], autopct='%1.1f%%'\n",
    "                                               )"
   ]
  },
  {
   "cell_type": "markdown",
   "id": "49bbe116-ac1f-44c3-937a-5354e2b15ee4",
   "metadata": {},
   "source": [
    "## Automation"
   ]
  },
  {
   "cell_type": "code",
   "execution_count": 12,
   "id": "b0154400-d744-46b9-8423-1a0e78e2bff8",
   "metadata": {},
   "outputs": [
    {
     "name": "stdout",
     "output_type": "stream",
     "text": [
      "Requirement already satisfied: yData-profiling in c:\\programfiles\\anaconda3\\lib\\site-packages (4.16.1)\n",
      "Requirement already satisfied: scipy<1.16,>=1.4.1 in c:\\programfiles\\anaconda3\\lib\\site-packages (from yData-profiling) (1.13.1)\n",
      "Requirement already satisfied: pandas!=1.4.0,<3.0,>1.1 in c:\\programfiles\\anaconda3\\lib\\site-packages (from yData-profiling) (2.2.2)\n",
      "Requirement already satisfied: matplotlib<=3.10,>=3.5 in c:\\programfiles\\anaconda3\\lib\\site-packages (from yData-profiling) (3.9.2)\n",
      "Requirement already satisfied: pydantic>=2 in c:\\programfiles\\anaconda3\\lib\\site-packages (from yData-profiling) (2.8.2)\n",
      "Requirement already satisfied: PyYAML<6.1,>=5.0.0 in c:\\programfiles\\anaconda3\\lib\\site-packages (from yData-profiling) (6.0.1)\n",
      "Requirement already satisfied: jinja2<3.2,>=2.11.1 in c:\\programfiles\\anaconda3\\lib\\site-packages (from yData-profiling) (3.1.4)\n",
      "Requirement already satisfied: visions<0.8.2,>=0.7.5 in c:\\programfiles\\anaconda3\\lib\\site-packages (from visions[type_image_path]<0.8.2,>=0.7.5->yData-profiling) (0.8.1)\n",
      "Requirement already satisfied: numpy<2.2,>=1.16.0 in c:\\programfiles\\anaconda3\\lib\\site-packages (from yData-profiling) (1.26.4)\n",
      "Requirement already satisfied: htmlmin==0.1.12 in c:\\programfiles\\anaconda3\\lib\\site-packages (from yData-profiling) (0.1.12)\n",
      "Requirement already satisfied: phik<0.13,>=0.11.1 in c:\\programfiles\\anaconda3\\lib\\site-packages (from yData-profiling) (0.12.5)\n",
      "Requirement already satisfied: requests<3,>=2.24.0 in c:\\programfiles\\anaconda3\\lib\\site-packages (from yData-profiling) (2.32.3)\n",
      "Requirement already satisfied: tqdm<5,>=4.48.2 in c:\\programfiles\\anaconda3\\lib\\site-packages (from yData-profiling) (4.66.5)\n",
      "Requirement already satisfied: seaborn<0.14,>=0.10.1 in c:\\programfiles\\anaconda3\\lib\\site-packages (from yData-profiling) (0.13.2)\n",
      "Requirement already satisfied: multimethod<2,>=1.4 in c:\\programfiles\\anaconda3\\lib\\site-packages (from yData-profiling) (1.12)\n",
      "Requirement already satisfied: statsmodels<1,>=0.13.2 in c:\\programfiles\\anaconda3\\lib\\site-packages (from yData-profiling) (0.14.2)\n",
      "Requirement already satisfied: typeguard<5,>=3 in c:\\programfiles\\anaconda3\\lib\\site-packages (from yData-profiling) (4.4.4)\n",
      "Requirement already satisfied: imagehash==4.3.1 in c:\\programfiles\\anaconda3\\lib\\site-packages (from yData-profiling) (4.3.1)\n",
      "Requirement already satisfied: wordcloud>=1.9.3 in c:\\programfiles\\anaconda3\\lib\\site-packages (from yData-profiling) (1.9.4)\n",
      "Requirement already satisfied: dacite>=1.8 in c:\\programfiles\\anaconda3\\lib\\site-packages (from yData-profiling) (1.9.2)\n",
      "Requirement already satisfied: numba<=0.61,>=0.56.0 in c:\\programfiles\\anaconda3\\lib\\site-packages (from yData-profiling) (0.60.0)\n",
      "Requirement already satisfied: PyWavelets in c:\\programfiles\\anaconda3\\lib\\site-packages (from imagehash==4.3.1->yData-profiling) (1.7.0)\n",
      "Requirement already satisfied: pillow in c:\\programfiles\\anaconda3\\lib\\site-packages (from imagehash==4.3.1->yData-profiling) (10.4.0)\n",
      "Requirement already satisfied: MarkupSafe>=2.0 in c:\\programfiles\\anaconda3\\lib\\site-packages (from jinja2<3.2,>=2.11.1->yData-profiling) (2.1.3)\n",
      "Requirement already satisfied: contourpy>=1.0.1 in c:\\programfiles\\anaconda3\\lib\\site-packages (from matplotlib<=3.10,>=3.5->yData-profiling) (1.2.0)\n",
      "Requirement already satisfied: cycler>=0.10 in c:\\programfiles\\anaconda3\\lib\\site-packages (from matplotlib<=3.10,>=3.5->yData-profiling) (0.11.0)\n",
      "Requirement already satisfied: fonttools>=4.22.0 in c:\\programfiles\\anaconda3\\lib\\site-packages (from matplotlib<=3.10,>=3.5->yData-profiling) (4.51.0)\n",
      "Requirement already satisfied: kiwisolver>=1.3.1 in c:\\programfiles\\anaconda3\\lib\\site-packages (from matplotlib<=3.10,>=3.5->yData-profiling) (1.4.4)\n",
      "Requirement already satisfied: packaging>=20.0 in c:\\programfiles\\anaconda3\\lib\\site-packages (from matplotlib<=3.10,>=3.5->yData-profiling) (24.1)\n",
      "Requirement already satisfied: pyparsing>=2.3.1 in c:\\programfiles\\anaconda3\\lib\\site-packages (from matplotlib<=3.10,>=3.5->yData-profiling) (3.1.2)\n",
      "Requirement already satisfied: python-dateutil>=2.7 in c:\\programfiles\\anaconda3\\lib\\site-packages (from matplotlib<=3.10,>=3.5->yData-profiling) (2.9.0.post0)\n",
      "Requirement already satisfied: llvmlite<0.44,>=0.43.0dev0 in c:\\programfiles\\anaconda3\\lib\\site-packages (from numba<=0.61,>=0.56.0->yData-profiling) (0.43.0)\n",
      "Requirement already satisfied: pytz>=2020.1 in c:\\programfiles\\anaconda3\\lib\\site-packages (from pandas!=1.4.0,<3.0,>1.1->yData-profiling) (2024.1)\n",
      "Requirement already satisfied: tzdata>=2022.7 in c:\\programfiles\\anaconda3\\lib\\site-packages (from pandas!=1.4.0,<3.0,>1.1->yData-profiling) (2023.3)\n",
      "Requirement already satisfied: joblib>=0.14.1 in c:\\programfiles\\anaconda3\\lib\\site-packages (from phik<0.13,>=0.11.1->yData-profiling) (1.4.2)\n",
      "Requirement already satisfied: annotated-types>=0.4.0 in c:\\programfiles\\anaconda3\\lib\\site-packages (from pydantic>=2->yData-profiling) (0.6.0)\n",
      "Requirement already satisfied: pydantic-core==2.20.1 in c:\\programfiles\\anaconda3\\lib\\site-packages (from pydantic>=2->yData-profiling) (2.20.1)\n",
      "Requirement already satisfied: typing-extensions>=4.6.1 in c:\\programfiles\\anaconda3\\lib\\site-packages (from pydantic>=2->yData-profiling) (4.14.1)\n",
      "Requirement already satisfied: charset-normalizer<4,>=2 in c:\\programfiles\\anaconda3\\lib\\site-packages (from requests<3,>=2.24.0->yData-profiling) (3.3.2)\n",
      "Requirement already satisfied: idna<4,>=2.5 in c:\\programfiles\\anaconda3\\lib\\site-packages (from requests<3,>=2.24.0->yData-profiling) (3.7)\n",
      "Requirement already satisfied: urllib3<3,>=1.21.1 in c:\\programfiles\\anaconda3\\lib\\site-packages (from requests<3,>=2.24.0->yData-profiling) (2.2.3)\n",
      "Requirement already satisfied: certifi>=2017.4.17 in c:\\programfiles\\anaconda3\\lib\\site-packages (from requests<3,>=2.24.0->yData-profiling) (2025.4.26)\n",
      "Requirement already satisfied: patsy>=0.5.6 in c:\\programfiles\\anaconda3\\lib\\site-packages (from statsmodels<1,>=0.13.2->yData-profiling) (0.5.6)\n",
      "Requirement already satisfied: colorama in c:\\programfiles\\anaconda3\\lib\\site-packages (from tqdm<5,>=4.48.2->yData-profiling) (0.4.6)\n",
      "Requirement already satisfied: attrs>=19.3.0 in c:\\programfiles\\anaconda3\\lib\\site-packages (from visions<0.8.2,>=0.7.5->visions[type_image_path]<0.8.2,>=0.7.5->yData-profiling) (23.1.0)\n",
      "Requirement already satisfied: networkx>=2.4 in c:\\programfiles\\anaconda3\\lib\\site-packages (from visions<0.8.2,>=0.7.5->visions[type_image_path]<0.8.2,>=0.7.5->yData-profiling) (3.3)\n",
      "Requirement already satisfied: puremagic in c:\\programfiles\\anaconda3\\lib\\site-packages (from visions<0.8.2,>=0.7.5->visions[type_image_path]<0.8.2,>=0.7.5->yData-profiling) (1.30)\n",
      "Requirement already satisfied: six in c:\\programfiles\\anaconda3\\lib\\site-packages (from patsy>=0.5.6->statsmodels<1,>=0.13.2->yData-profiling) (1.16.0)\n"
     ]
    }
   ],
   "source": [
    "!pip install yData-profiling"
   ]
  },
  {
   "cell_type": "code",
   "execution_count": 13,
   "id": "1807775f-28fa-4f27-9266-bba6e378313f",
   "metadata": {},
   "outputs": [
    {
     "data": {
      "text/html": [
       "\n",
       "            <div>\n",
       "                <ins><a href=\"https://ydata.ai/register\">Upgrade to ydata-sdk</a></ins>\n",
       "                <p>\n",
       "                    Improve your data and profiling with ydata-sdk, featuring data quality scoring, redundancy detection, outlier identification, text validation, and synthetic data generation.\n",
       "                </p>\n",
       "            </div>\n",
       "            "
      ],
      "text/plain": [
       "<IPython.core.display.HTML object>"
      ]
     },
     "metadata": {},
     "output_type": "display_data"
    }
   ],
   "source": [
    "import ydata_profiling"
   ]
  },
  {
   "cell_type": "code",
   "execution_count": 14,
   "id": "f418c39c-56c2-459d-8fed-107c9fe14ca2",
   "metadata": {},
   "outputs": [],
   "source": [
    "profile_report=icu_df.profile_report()"
   ]
  },
  {
   "cell_type": "code",
   "execution_count": 15,
   "id": "65b3f303-0336-4e6c-9c4c-593797a79eb4",
   "metadata": {},
   "outputs": [
    {
     "data": {
      "application/vnd.jupyter.widget-view+json": {
       "model_id": "13c89489de194cc284bb805459d4c8a4",
       "version_major": 2,
       "version_minor": 0
      },
      "text/plain": [
       "Summarize dataset:   0%|          | 0/5 [00:00<?, ?it/s]"
      ]
     },
     "metadata": {},
     "output_type": "display_data"
    },
    {
     "name": "stderr",
     "output_type": "stream",
     "text": [
      "\n",
      "100%|██████████████████████████████████████████████████████████████████████████████████| 6/6 [00:00<00:00, 2983.50it/s]\u001b[A\n"
     ]
    },
    {
     "data": {
      "application/vnd.jupyter.widget-view+json": {
       "model_id": "cf83b9c75ac244ada9a16639c8362a0d",
       "version_major": 2,
       "version_minor": 0
      },
      "text/plain": [
       "Generate report structure:   0%|          | 0/1 [00:00<?, ?it/s]"
      ]
     },
     "metadata": {},
     "output_type": "display_data"
    },
    {
     "data": {
      "application/vnd.jupyter.widget-view+json": {
       "model_id": "d151bc6856fa4df6ad0ff0102f8dfbad",
       "version_major": 2,
       "version_minor": 0
      },
      "text/plain": [
       "Render HTML:   0%|          | 0/1 [00:00<?, ?it/s]"
      ]
     },
     "metadata": {},
     "output_type": "display_data"
    },
    {
     "data": {
      "application/vnd.jupyter.widget-view+json": {
       "model_id": "47a9964c8e33458d94b81146f4186592",
       "version_major": 2,
       "version_minor": 0
      },
      "text/plain": [
       "Export report to file:   0%|          | 0/1 [00:00<?, ?it/s]"
      ]
     },
     "metadata": {},
     "output_type": "display_data"
    }
   ],
   "source": [
    "profile_report.to_file(\"EDA_report.html\")"
   ]
  },
  {
   "cell_type": "code",
   "execution_count": null,
   "id": "dc035410-bcf6-4580-a435-841125fd376b",
   "metadata": {},
   "outputs": [],
   "source": []
  }
 ],
 "metadata": {
  "kernelspec": {
   "display_name": "Python [conda env:base] *",
   "language": "python",
   "name": "conda-base-py"
  },
  "language_info": {
   "codemirror_mode": {
    "name": "ipython",
    "version": 3
   },
   "file_extension": ".py",
   "mimetype": "text/x-python",
   "name": "python",
   "nbconvert_exporter": "python",
   "pygments_lexer": "ipython3",
   "version": "3.12.7"
  }
 },
 "nbformat": 4,
 "nbformat_minor": 5
}
