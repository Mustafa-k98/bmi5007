{
 "cells": [
  {
   "cell_type": "code",
   "execution_count": 75,
   "id": "fca1eca6-1f6e-4d89-8eed-68d2cc1abbc1",
   "metadata": {},
   "outputs": [],
   "source": [
    "import pandas as pd\n",
    "import numpy as np\n",
    "import os\n",
    "import string"
   ]
  },
  {
   "cell_type": "markdown",
   "id": "9ffa7d2c-1caf-4ed7-a0a5-62629b06a8aa",
   "metadata": {},
   "source": [
    "### Read File"
   ]
  },
  {
   "cell_type": "code",
   "execution_count": 76,
   "id": "37d54149-29ed-4b61-8ed0-e7a5e8f4bfa5",
   "metadata": {},
   "outputs": [],
   "source": [
    "df = pd.read_csv(\"data/outpatient_sample.csv\")"
   ]
  },
  {
   "cell_type": "markdown",
   "id": "8ad592b8-c481-4fd4-8702-06eb924bec90",
   "metadata": {},
   "source": [
    "### Count Number of Visits"
   ]
  },
  {
   "cell_type": "code",
   "execution_count": 77,
   "id": "3d6dcd94-9a36-47b2-9d2d-89b00ac2a0a3",
   "metadata": {},
   "outputs": [],
   "source": [
    "total_visits = df.groupby('Patient_ID').size().reset_index(name='Total_Visits')"
   ]
  },
  {
   "cell_type": "markdown",
   "id": "7ca265b6-b829-4609-ae0f-e911711dc8a6",
   "metadata": {},
   "source": [
    "### Get unique Physicians for each Patient"
   ]
  },
  {
   "cell_type": "code",
   "execution_count": 78,
   "id": "5711d718-99a0-46fb-a52f-b7cd073c5d2d",
   "metadata": {},
   "outputs": [],
   "source": [
    "def unique_physicians(group):\n",
    "    \"\"\"\n",
    "    Collects all unique physician IDs (Primary, Operating, Other) for a given patient\n",
    "    across all their visits within the group.\n",
    "\n",
    "    Args:\n",
    "        group (pd.DataFrame): A DataFrame group for a single patient,\n",
    "                              containing all their visits.\n",
    "\n",
    "    Returns:\n",
    "        int: The count of unique physicians associated with the patient.\n",
    "    \"\"\"\n",
    "    # Stack all physician columns into a single Series, drop NaNs, and get unique values.\n",
    "    physicians = group[['Primary_Physician', 'Operating_Physician', 'Other_Physician']].stack().unique()\n",
    "    return len(physicians)"
   ]
  },
  {
   "cell_type": "code",
   "execution_count": 79,
   "id": "ebcad20b-86a6-454e-a34a-01b296c59399",
   "metadata": {
    "scrolled": true
   },
   "outputs": [
    {
     "name": "stderr",
     "output_type": "stream",
     "text": [
      "C:\\Users\\Mustafa Khan\\AppData\\Local\\Temp\\ipykernel_24104\\2735038221.py:1: DeprecationWarning: DataFrameGroupBy.apply operated on the grouping columns. This behavior is deprecated, and in a future version of pandas the grouping columns will be excluded from the operation. Either pass `include_groups=False` to exclude the groupings or explicitly select the grouping columns after groupby to silence this warning.\n",
      "  total_physicians = df.groupby('Patient_ID').apply(unique_physicians).reset_index(name='Total_Physicians')\n"
     ]
    }
   ],
   "source": [
    "total_physicians = df.groupby('Patient_ID').apply(unique_physicians).reset_index(name='Total_Physicians')"
   ]
  },
  {
   "cell_type": "markdown",
   "id": "f70bc39c-dd1a-4f00-9368-de4f22523bc0",
   "metadata": {},
   "source": [
    "### Get Unique Diagnoses for each Patient"
   ]
  },
  {
   "cell_type": "code",
   "execution_count": 80,
   "id": "090450a1-cd61-416d-b2b3-9a352b4ddbd2",
   "metadata": {},
   "outputs": [],
   "source": [
    "def unique_diagnoses(group):\n",
    "    \"\"\"\n",
    "    Counts the number of unique diagnoses for a given patient group.\n",
    "    Combines all ICD9_DGNS_CD columns, filters out NaN values,\n",
    "    and returns the count of unique diagnoses.\n",
    "    \"\"\"\n",
    "    # Select all columns that represent diagnoses.\n",
    "    diagnosis_cols = [col for col in group.columns if 'ICD9_DGNS_CD' in col]\n",
    "    # Flatten all diagnosis codes into a single Series for the patient, drop NaNs, and get unique values.\n",
    "    all_diagnoses = group[diagnosis_cols].stack().unique()\n",
    "    return len(all_diagnoses)"
   ]
  },
  {
   "cell_type": "code",
   "execution_count": 81,
   "id": "0125cc47-0bf3-43f4-81e9-6ef808a7228e",
   "metadata": {},
   "outputs": [
    {
     "name": "stderr",
     "output_type": "stream",
     "text": [
      "C:\\Users\\Mustafa Khan\\AppData\\Local\\Temp\\ipykernel_24104\\198543127.py:2: DeprecationWarning: DataFrameGroupBy.apply operated on the grouping columns. This behavior is deprecated, and in a future version of pandas the grouping columns will be excluded from the operation. Either pass `include_groups=False` to exclude the groupings or explicitly select the grouping columns after groupby to silence this warning.\n",
      "  total_diagnoses = df.groupby('Patient_ID').apply(unique_diagnoses).reset_index(name='Total_Diagnosis')\n"
     ]
    }
   ],
   "source": [
    "# Apply the function to each patient group to get the total unique diagnoses.\n",
    "total_diagnoses = df.groupby('Patient_ID').apply(unique_diagnoses).reset_index(name='Total_Diagnosis')"
   ]
  },
  {
   "cell_type": "markdown",
   "id": "78995c1a-c8df-4357-a3b7-0abe60a44f46",
   "metadata": {},
   "source": [
    "### Get Most Frequent Diagnosis for each Patient"
   ]
  },
  {
   "cell_type": "code",
   "execution_count": 82,
   "id": "f9ad0cfe-f989-4311-b1eb-d812c545ea94",
   "metadata": {},
   "outputs": [],
   "source": [
    "def most_frequent_diagnosis(group):\n",
    "    \"\"\"\n",
    "    Identifies the most frequent diagnosis for a group of patient visits.\n",
    "    In case of ties, it picks one at random.\n",
    "    \"\"\"\n",
    "    diagnosis_cols = [col for col in group.columns if 'ICD9_DGNS_CD' in col]\n",
    "    all_diagnoses = group[diagnosis_cols].values.flatten()\n",
    "    \n",
    "    # Filter out NaN values before counting\n",
    "    remove_nan_diagnoses = pd.Series(all_diagnoses).dropna()\n",
    "    \n",
    "    if remove_nan_diagnoses.empty:\n",
    "        # Return NaN if no diagnoses are present\n",
    "        return np.nan \n",
    "    else:\n",
    "        return remove_nan_diagnoses.mode()[0] "
   ]
  },
  {
   "cell_type": "code",
   "execution_count": 83,
   "id": "6642b5e7-07c9-4294-a3c7-5fd2ae2ca6bd",
   "metadata": {},
   "outputs": [
    {
     "name": "stderr",
     "output_type": "stream",
     "text": [
      "C:\\Users\\Mustafa Khan\\AppData\\Local\\Temp\\ipykernel_24104\\117985977.py:2: DeprecationWarning: DataFrameGroupBy.apply operated on the grouping columns. This behavior is deprecated, and in a future version of pandas the grouping columns will be excluded from the operation. Either pass `include_groups=False` to exclude the groupings or explicitly select the grouping columns after groupby to silence this warning.\n",
      "  most_frequent_diagnosis = df.groupby('Patient_ID').apply(most_frequent_diagnosis).reset_index(name='Most_Freq_Diagnosis')\n"
     ]
    }
   ],
   "source": [
    "# Apply the function to each patient group to get the most frequent diagnoses.\n",
    "most_frequent_diagnosis = df.groupby('Patient_ID').apply(most_frequent_diagnosis).reset_index(name='Most_Freq_Diagnosis')"
   ]
  },
  {
   "cell_type": "markdown",
   "id": "8e236a0e-5ae2-42cf-9260-ef4024abe01d",
   "metadata": {},
   "source": [
    "### Merge all data "
   ]
  },
  {
   "cell_type": "code",
   "execution_count": 84,
   "id": "306443cf-57af-4003-996d-c375f8219ef8",
   "metadata": {},
   "outputs": [],
   "source": [
    "summary_df = total_visits.merge(total_physicians, on='Patient_ID')\n",
    "summary_df = summary_df.merge(total_diagnoses, on='Patient_ID')\n",
    "summary_df = summary_df.merge(most_frequent_diagnosis, on='Patient_ID')"
   ]
  },
  {
   "cell_type": "markdown",
   "id": "3459a8f0-2f87-4e85-a13f-66d6a838b86f",
   "metadata": {},
   "source": [
    "### FINAL RESULT"
   ]
  },
  {
   "cell_type": "code",
   "execution_count": 85,
   "id": "8385d7e7-eedd-4dae-9f50-4ee4332b0633",
   "metadata": {},
   "outputs": [
    {
     "name": "stdout",
     "output_type": "stream",
     "text": [
      "         Patient_ID  Total_Visits  Total_Physicians  Total_Diagnosis  \\\n",
      "0  00013D2EFD8E45D1             1                 1                1   \n",
      "1  00016F745862898F             2                 2                9   \n",
      "2  0001FDD721E223DC             1                 1                3   \n",
      "3  00024B3D2352D2D0             4                 4                4   \n",
      "4  0002F28CE057345B            19                21               45   \n",
      "\n",
      "  Most_Freq_Diagnosis  \n",
      "0               V5841  \n",
      "1                2724  \n",
      "2               78943  \n",
      "3                2723  \n",
      "4                3569  \n"
     ]
    }
   ],
   "source": [
    "print(summary_df.head())"
   ]
  }
 ],
 "metadata": {
  "kernelspec": {
   "display_name": "Python [conda env:base] *",
   "language": "python",
   "name": "conda-base-py"
  },
  "language_info": {
   "codemirror_mode": {
    "name": "ipython",
    "version": 3
   },
   "file_extension": ".py",
   "mimetype": "text/x-python",
   "name": "python",
   "nbconvert_exporter": "python",
   "pygments_lexer": "ipython3",
   "version": "3.12.7"
  }
 },
 "nbformat": 4,
 "nbformat_minor": 5
}
